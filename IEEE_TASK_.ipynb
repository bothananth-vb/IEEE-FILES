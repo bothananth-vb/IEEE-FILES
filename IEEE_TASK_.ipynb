{
  "nbformat": 4,
  "nbformat_minor": 0,
  "metadata": {
    "colab": {
      "provenance": [],
      "authorship_tag": "ABX9TyMN0PImjFaiQ0NpUqRu5NbP",
      "include_colab_link": true
    },
    "kernelspec": {
      "name": "python3",
      "display_name": "Python 3"
    },
    "language_info": {
      "name": "python"
    }
  },
  "cells": [
    {
      "cell_type": "markdown",
      "metadata": {
        "id": "view-in-github",
        "colab_type": "text"
      },
      "source": [
        "<a href=\"https://colab.research.google.com/github/bothananth-vb/LIME-ML/blob/main/IEEE_TASK_.ipynb\" target=\"_parent\"><img src=\"https://colab.research.google.com/assets/colab-badge.svg\" alt=\"Open In Colab\"/></a>"
      ]
    },
    {
      "cell_type": "code",
      "source": [
        "!wget https://raw.githubusercontent.com/jbrownlee/Datasets/master/pima-indians-diabetes.csv -O diabetes.csv"
      ],
      "metadata": {
        "colab": {
          "base_uri": "https://localhost:8080/"
        },
        "id": "ceOlR0_PtVqS",
        "outputId": "de6979f4-0ded-4ebd-fb09-23ff8b1d90d7"
      },
      "execution_count": 1,
      "outputs": [
        {
          "output_type": "stream",
          "name": "stdout",
          "text": [
            "--2024-10-16 16:28:16--  https://raw.githubusercontent.com/jbrownlee/Datasets/master/pima-indians-diabetes.csv\n",
            "Resolving raw.githubusercontent.com (raw.githubusercontent.com)... 185.199.108.133, 185.199.110.133, 185.199.109.133, ...\n",
            "Connecting to raw.githubusercontent.com (raw.githubusercontent.com)|185.199.108.133|:443... connected.\n",
            "HTTP request sent, awaiting response... 200 OK\n",
            "Length: 23278 (23K) [text/plain]\n",
            "Saving to: ‘diabetes.csv’\n",
            "\n",
            "\rdiabetes.csv          0%[                    ]       0  --.-KB/s               \rdiabetes.csv        100%[===================>]  22.73K  --.-KB/s    in 0s      \n",
            "\n",
            "2024-10-16 16:28:17 (57.6 MB/s) - ‘diabetes.csv’ saved [23278/23278]\n",
            "\n"
          ]
        }
      ]
    },
    {
      "cell_type": "code",
      "source": [
        "!pip install lime"
      ],
      "metadata": {
        "colab": {
          "base_uri": "https://localhost:8080/"
        },
        "id": "8KpMmnnMGCdy",
        "outputId": "86327e0f-c789-4f98-bd38-73824382f12e"
      },
      "execution_count": 2,
      "outputs": [
        {
          "output_type": "stream",
          "name": "stdout",
          "text": [
            "Collecting lime\n",
            "  Downloading lime-0.2.0.1.tar.gz (275 kB)\n",
            "\u001b[?25l     \u001b[90m━━━━━━━━━━━━━━━━━━━━━━━━━━━━━━━━━━━━━━━━\u001b[0m \u001b[32m0.0/275.7 kB\u001b[0m \u001b[31m?\u001b[0m eta \u001b[36m-:--:--\u001b[0m\r\u001b[2K     \u001b[90m━━━━━━━━━━━━━━━━━━━━━━━━━━━━━━━━━━━━━━━━\u001b[0m \u001b[32m275.7/275.7 kB\u001b[0m \u001b[31m11.2 MB/s\u001b[0m eta \u001b[36m0:00:00\u001b[0m\n",
            "\u001b[?25h  Preparing metadata (setup.py) ... \u001b[?25l\u001b[?25hdone\n",
            "Requirement already satisfied: matplotlib in /usr/local/lib/python3.10/dist-packages (from lime) (3.7.1)\n",
            "Requirement already satisfied: numpy in /usr/local/lib/python3.10/dist-packages (from lime) (1.26.4)\n",
            "Requirement already satisfied: scipy in /usr/local/lib/python3.10/dist-packages (from lime) (1.13.1)\n",
            "Requirement already satisfied: tqdm in /usr/local/lib/python3.10/dist-packages (from lime) (4.66.5)\n",
            "Requirement already satisfied: scikit-learn>=0.18 in /usr/local/lib/python3.10/dist-packages (from lime) (1.5.2)\n",
            "Requirement already satisfied: scikit-image>=0.12 in /usr/local/lib/python3.10/dist-packages (from lime) (0.24.0)\n",
            "Requirement already satisfied: networkx>=2.8 in /usr/local/lib/python3.10/dist-packages (from scikit-image>=0.12->lime) (3.4)\n",
            "Requirement already satisfied: pillow>=9.1 in /usr/local/lib/python3.10/dist-packages (from scikit-image>=0.12->lime) (10.4.0)\n",
            "Requirement already satisfied: imageio>=2.33 in /usr/local/lib/python3.10/dist-packages (from scikit-image>=0.12->lime) (2.35.1)\n",
            "Requirement already satisfied: tifffile>=2022.8.12 in /usr/local/lib/python3.10/dist-packages (from scikit-image>=0.12->lime) (2024.9.20)\n",
            "Requirement already satisfied: packaging>=21 in /usr/local/lib/python3.10/dist-packages (from scikit-image>=0.12->lime) (24.1)\n",
            "Requirement already satisfied: lazy-loader>=0.4 in /usr/local/lib/python3.10/dist-packages (from scikit-image>=0.12->lime) (0.4)\n",
            "Requirement already satisfied: joblib>=1.2.0 in /usr/local/lib/python3.10/dist-packages (from scikit-learn>=0.18->lime) (1.4.2)\n",
            "Requirement already satisfied: threadpoolctl>=3.1.0 in /usr/local/lib/python3.10/dist-packages (from scikit-learn>=0.18->lime) (3.5.0)\n",
            "Requirement already satisfied: contourpy>=1.0.1 in /usr/local/lib/python3.10/dist-packages (from matplotlib->lime) (1.3.0)\n",
            "Requirement already satisfied: cycler>=0.10 in /usr/local/lib/python3.10/dist-packages (from matplotlib->lime) (0.12.1)\n",
            "Requirement already satisfied: fonttools>=4.22.0 in /usr/local/lib/python3.10/dist-packages (from matplotlib->lime) (4.54.1)\n",
            "Requirement already satisfied: kiwisolver>=1.0.1 in /usr/local/lib/python3.10/dist-packages (from matplotlib->lime) (1.4.7)\n",
            "Requirement already satisfied: pyparsing>=2.3.1 in /usr/local/lib/python3.10/dist-packages (from matplotlib->lime) (3.1.4)\n",
            "Requirement already satisfied: python-dateutil>=2.7 in /usr/local/lib/python3.10/dist-packages (from matplotlib->lime) (2.8.2)\n",
            "Requirement already satisfied: six>=1.5 in /usr/local/lib/python3.10/dist-packages (from python-dateutil>=2.7->matplotlib->lime) (1.16.0)\n",
            "Building wheels for collected packages: lime\n",
            "  Building wheel for lime (setup.py) ... \u001b[?25l\u001b[?25hdone\n",
            "  Created wheel for lime: filename=lime-0.2.0.1-py3-none-any.whl size=283834 sha256=7b127e55824844206021e7765c55f63fbe52d74c2026b8720f6ec2a07a8d0f61\n",
            "  Stored in directory: /root/.cache/pip/wheels/fd/a2/af/9ac0a1a85a27f314a06b39e1f492bee1547d52549a4606ed89\n",
            "Successfully built lime\n",
            "Installing collected packages: lime\n",
            "Successfully installed lime-0.2.0.1\n"
          ]
        }
      ]
    },
    {
      "cell_type": "markdown",
      "source": [
        "data.columns = [\"Pregnancies\", \"Glucose\", \"BloodPressure\", \"SkinThickness\", \"Insulin\", \"BMI\", \"DiabetesPedigreeFunction\", \"Age\", \"Outcome\"]  # Replace with your actual column names\n"
      ],
      "metadata": {
        "id": "9ZQxefVQIpaK"
      }
    },
    {
      "cell_type": "code",
      "source": [
        "import pandas as pd\n",
        "from sklearn.model_selection import train_test_split\n",
        "from sklearn.ensemble import RandomForestClassifier\n",
        "from sklearn.metrics import accuracy_score, precision_score, recall_score, f1_score\n",
        "from lime.lime_tabular import LimeTabularExplainer\n",
        "\n",
        "# Load the dataset\n",
        "data = pd.read_csv('diabetes.csv')\n",
        "data.columns = [\"Pregnancies\", \"Glucose\", \"BloodPressure\", \"SkinThickness\", \"Insulin\",\n",
        "                \"BMI\", \"DiabetesPedigreeFunction\", \"Age\", \"Outcome\"]\n",
        "\n",
        "# Split the data into features and target\n",
        "X = data.drop('Outcome', axis=1)\n",
        "y = data['Outcome']\n",
        "\n",
        "# Split the data into training and testing sets\n",
        "X_train, X_test, y_train, y_test = train_test_split(X, y, test_size=0.2, random_state=42)\n",
        "\n",
        "# Create and train the Random Forest model\n",
        "model = RandomForestClassifier(random_state=42)\n",
        "model.fit(X_train, y_train)\n",
        "\n",
        "# Make predictions on the test set\n",
        "y_pred = model.predict(X_test)\n",
        "\n",
        "# Evaluate the model's performance\n",
        "accuracy = accuracy_score(y_test, y_pred)\n",
        "precision = precision_score(y_test, y_pred)\n",
        "recall = recall_score(y_test, y_pred)\n",
        "f1 = f1_score(y_test, y_pred)\n",
        "\n",
        "print(\"\\nModel Evaluation:\")\n",
        "print(f\"Accuracy:  {accuracy:.4f}\")\n",
        "print(f\"Precision: {precision:.4f}\")\n",
        "print(f\"Recall:    {recall:.4f}\")\n",
        "print(f\"F1-score:  {f1:.4f}\")\n",
        "\n",
        "# Create a LIME explainer\n",
        "explainer = LimeTabularExplainer(X_train.values,\n",
        "                                 feature_names=X_train.columns,\n",
        "                                 class_names=['No Diabetes', 'Diabetes'],\n",
        "                                 discretize_continuous=True)\n",
        "\n",
        "# Explain multiple instances and print the explanations in readable format\n",
        "num_instances_to_explain = 5\n",
        "for i in range(num_instances_to_explain):\n",
        "    instance_to_explain = X_test.iloc[i:i+1]  # Keep as a DataFrame with feature names\n",
        "    explanation = explainer.explain_instance(instance_to_explain.values[0], model.predict_proba)\n",
        "\n",
        "    print(f\"\\nExplanation for Instance {i+1} (Actual class: {y_test.iloc[i]}):\")\n",
        "    explanation_dict = dict(explanation.as_list())\n",
        "\n",
        "    print(f\"{'Feature':<30} {'Contribution to Prediction':>30}\")\n",
        "    print(\"-\" * 60)\n",
        "    for feature, weight in explanation_dict.items():\n",
        "        print(f\"{feature:<30} {weight:>30.4f}\")\n",
        "\n",
        "    # Fix the warning by reshaping the instance into a DataFrame before passing it to predict_proba\n",
        "    prediction_proba = model.predict_proba(instance_to_explain)[0][1]  # Still use a DataFrame for prediction\n",
        "\n",
        "    print(f\"\\nPrediction probability for Diabetes: {prediction_proba:.4f}\")\n",
        "    print(\"-\" * 60)\n"
      ],
      "metadata": {
        "colab": {
          "base_uri": "https://localhost:8080/"
        },
        "id": "FfK1UymDHKML",
        "outputId": "a7e3af84-b257-409e-c17d-ce1a1c5c32a4"
      },
      "execution_count": 8,
      "outputs": [
        {
          "output_type": "stream",
          "name": "stdout",
          "text": [
            "\n",
            "Model Evaluation:\n",
            "Accuracy:  0.7857\n",
            "Precision: 0.7143\n",
            "Recall:    0.7018\n",
            "F1-score:  0.7080\n",
            "\n",
            "Explanation for Instance 1 (Actual class: 0):\n",
            "Feature                            Contribution to Prediction\n",
            "------------------------------------------------------------\n",
            "Glucose <= 99.00                                      -0.2034\n",
            "Age > 41.00                                            0.0707\n",
            "32.00 < BMI <= 36.60                                   0.0531\n",
            "Insulin > 127.00                                       0.0422\n",
            "SkinThickness > 32.00                                  0.0312\n",
            "3.00 < Pregnancies <= 6.00                             0.0047\n",
            "BloodPressure <= 62.00                                -0.0041\n",
            "0.38 < DiabetesPedigreeFunction <= 0.63                         0.0020\n",
            "\n",
            "Prediction probability for Diabetes: 0.3600\n",
            "------------------------------------------------------------\n"
          ]
        },
        {
          "output_type": "stream",
          "name": "stderr",
          "text": [
            "/usr/local/lib/python3.10/dist-packages/sklearn/base.py:493: UserWarning: X does not have valid feature names, but RandomForestClassifier was fitted with feature names\n",
            "  warnings.warn(\n",
            "/usr/local/lib/python3.10/dist-packages/sklearn/base.py:493: UserWarning: X does not have valid feature names, but RandomForestClassifier was fitted with feature names\n",
            "  warnings.warn(\n"
          ]
        },
        {
          "output_type": "stream",
          "name": "stdout",
          "text": [
            "\n",
            "Explanation for Instance 2 (Actual class: 0):\n",
            "Feature                            Contribution to Prediction\n",
            "------------------------------------------------------------\n",
            "Glucose > 139.00                                       0.2881\n",
            "BMI <= 27.40                                          -0.1773\n",
            "Age <= 24.00                                          -0.1013\n",
            "DiabetesPedigreeFunction <= 0.24                        -0.0576\n",
            "Pregnancies <= 1.00                                   -0.0465\n",
            "Insulin > 127.00                                       0.0382\n",
            "62.00 < BloodPressure <= 72.00                        -0.0213\n",
            "0.00 < SkinThickness <= 23.00                         -0.0146\n",
            "\n",
            "Prediction probability for Diabetes: 0.2900\n",
            "------------------------------------------------------------\n",
            "\n",
            "Explanation for Instance 3 (Actual class: 0):\n",
            "Feature                            Contribution to Prediction\n",
            "------------------------------------------------------------\n",
            "99.00 < Glucose <= 117.00                             -0.1092\n",
            "Age <= 24.00                                          -0.0994\n",
            "DiabetesPedigreeFunction <= 0.24                        -0.0548\n",
            "27.40 < BMI <= 32.00                                   0.0367\n",
            "1.00 < Pregnancies <= 3.00                            -0.0262\n",
            "62.00 < BloodPressure <= 72.00                        -0.0162\n",
            "SkinThickness <= 0.00                                 -0.0027\n",
            "Insulin <= 0.00                                        0.0003\n"
          ]
        },
        {
          "output_type": "stream",
          "name": "stderr",
          "text": [
            "/usr/local/lib/python3.10/dist-packages/sklearn/base.py:493: UserWarning: X does not have valid feature names, but RandomForestClassifier was fitted with feature names\n",
            "  warnings.warn(\n"
          ]
        },
        {
          "output_type": "stream",
          "name": "stdout",
          "text": [
            "\n",
            "Prediction probability for Diabetes: 0.1500\n",
            "------------------------------------------------------------\n"
          ]
        },
        {
          "output_type": "stream",
          "name": "stderr",
          "text": [
            "/usr/local/lib/python3.10/dist-packages/sklearn/base.py:493: UserWarning: X does not have valid feature names, but RandomForestClassifier was fitted with feature names\n",
            "  warnings.warn(\n",
            "/usr/local/lib/python3.10/dist-packages/sklearn/base.py:493: UserWarning: X does not have valid feature names, but RandomForestClassifier was fitted with feature names\n",
            "  warnings.warn(\n"
          ]
        },
        {
          "output_type": "stream",
          "name": "stdout",
          "text": [
            "\n",
            "Explanation for Instance 4 (Actual class: 0):\n",
            "Feature                            Contribution to Prediction\n",
            "------------------------------------------------------------\n",
            "BMI <= 27.40                                          -0.1952\n",
            "99.00 < Glucose <= 117.00                             -0.0949\n",
            "Pregnancies > 6.00                                     0.0914\n",
            "DiabetesPedigreeFunction > 0.63                         0.0860\n",
            "29.00 < Age <= 41.00                                   0.0528\n",
            "SkinThickness <= 0.00                                  0.0082\n",
            "Insulin <= 0.00                                       -0.0047\n",
            "72.00 < BloodPressure <= 80.00                        -0.0027\n",
            "\n",
            "Prediction probability for Diabetes: 0.1500\n",
            "------------------------------------------------------------\n",
            "\n",
            "Explanation for Instance 5 (Actual class: 0):\n",
            "Feature                            Contribution to Prediction\n",
            "------------------------------------------------------------\n",
            "BMI <= 27.40                                          -0.1852\n",
            "99.00 < Glucose <= 117.00                             -0.1023\n",
            "DiabetesPedigreeFunction <= 0.24                        -0.0566\n",
            "24.00 < Age <= 29.00                                  -0.0335\n",
            "Insulin <= 0.00                                       -0.0114\n",
            "BloodPressure <= 62.00                                -0.0101\n",
            "SkinThickness <= 0.00                                 -0.0058\n",
            "3.00 < Pregnancies <= 6.00                             0.0022\n",
            "\n",
            "Prediction probability for Diabetes: 0.1500\n",
            "------------------------------------------------------------\n"
          ]
        }
      ]
    }
  ]
}